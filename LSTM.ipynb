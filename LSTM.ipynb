{
  "nbformat": 4,
  "nbformat_minor": 0,
  "metadata": {
    "colab": {
      "name": "Tahmid_LSTM.ipynb",
      "provenance": [],
      "machine_shape": "hm"
    },
    "kernelspec": {
      "name": "python3",
      "display_name": "Python 3"
    },
    "language_info": {
      "name": "python"
    },
    "accelerator": "GPU",
    "gpuClass": "standard"
  },
  "cells": [
    {
      "cell_type": "code",
      "metadata": {
        "id": "j3taOWO_tg2K"
      },
      "source": [
        "import torch\n",
        "import torch.nn as nn\n",
        "import string\n",
        "from torchtext.data.utils import get_tokenizer\n",
        "\n",
        "from gensim.corpora import WikiCorpus\n",
        "import matplotlib.pyplot as plt\n",
        "from sklearn.metrics import accuracy_score\n"
      ],
      "execution_count": 20,
      "outputs": []
    },
    {
      "cell_type": "code",
      "metadata": {
        "id": "MCH53qBcuF8P"
      },
      "source": [
        "# from google.colab import drive\n",
        "# drive.mount('/content/drive')"
      ],
      "execution_count": 21,
      "outputs": []
    },
    {
      "cell_type": "code",
      "metadata": {
        "id": "ODpIQFiBuSRO"
      },
      "source": [
        "def make_token(splited_parts):\n",
        "  sentence = []\n",
        "  temp_word = \"\"\n",
        "  for i in splited_parts:\n",
        "    if i.islower() == False:\n",
        "      if len(temp_word)>0 :\n",
        "        sentence.append(temp_word)\n",
        "\n",
        "      if len(i)>0 :  \n",
        "        sentence.append(i)\n",
        "        \n",
        "      temp_word = \"\"\n",
        "    else:\n",
        "      temp_word = temp_word + i\n",
        "  if len(temp_word)>0 :\n",
        "    sentence.append(temp_word)  \n",
        "  return sentence"
      ],
      "execution_count": 22,
      "outputs": []
    },
    {
      "cell_type": "code",
      "metadata": {
        "id": "i7cOovVcuTQG"
      },
      "source": [
        "string = []\n",
        "\n",
        "f = open(\"../ta2.txt\", \"r\")\n",
        "myData = f.read()\n",
        "myData = myData.lower()\n",
        "myData = myData.replace(\"\\n\",\"\");\n",
        "myData = myData.split(\".\")\n",
        "for i in range(len(myData)):\n",
        "  x = myData[i].split()\n",
        "  y = ' '.join(x)\n",
        "  y = y.split(' ')\n",
        "\n",
        "  temp_line = []\n",
        "  for pw in y:\n",
        "    tl = make_token(pw)\n",
        "    for kl in tl:\n",
        "      temp_line.append(kl)\n",
        "  string.append(temp_line)"
      ],
      "execution_count": 23,
      "outputs": []
    },
    {
      "cell_type": "code",
      "metadata": {
        "colab": {
          "base_uri": "https://localhost:8080/"
        },
        "id": "ONVRTSnAuWZ-",
        "outputId": "69cd1f34-c1fd-44c2-cec1-f3c94a324c5f"
      },
      "source": [
        "del string[-1]\n",
        "print(string)\n",
        "max_len = 0\n",
        "\n",
        "for a in string:\n",
        "  if len(a)>max_len:\n",
        "    max_len = len(a)\n",
        "\n",
        "max_len = max_len+1  "
      ],
      "execution_count": 24,
      "outputs": [
        {
          "output_type": "stream",
          "name": "stdout",
          "text": [
            "[['i', 'eat', 'rice'], ['the', 'cow', 'is', 'an', 'animal'], ['bangladesh', 'has', 'been', 'playing', 'cricket', 'since', '2', '0', '0', '0'], ['shakib', 'al', 'hasan', 'is', 'a', 'bangladeshi', 'international', 'cricketer'], ['mr'], ['x', 'has', 'joined', 'xyz', 'university', 'in', 'april', '2', '0', '1', '8', 'as', 'assistant', 'professor'], ['before', 'joining', 'in', 'xyz', 'universityhe', 'had', 'worked', 'at', 'abc', 'inc', ',', 'usa', 'as', 'senior', 'research', 'scientist'], ['now', ',', 'he', 'is', 'codirecting', 'the', 'zyx', 'lab', '@', 'xyz'], ['he', 'is', 'also', 'affiliated', 'with', 'data', '&', 'design', 'lab', 'as', 'research', 'associate'], ['i', 'drink', 'tea'], ['i', 'drink', 'coke', 'in', 'summer'], ['i', 'eat', 'rice', 'at', 'restaurent'], ['i', 'drink', 'milk', 'at', 'night'], ['i', 'sleep', 'a', 'lot'], ['deep', 'dark', 'night'], ['i', 'love', 'pets'], ['i', 'should', 'run']]\n"
          ]
        }
      ]
    },
    {
      "cell_type": "code",
      "metadata": {
        "colab": {
          "base_uri": "https://localhost:8080/"
        },
        "id": "kORTCEjNuftH",
        "outputId": "ddb492f6-f445-41ef-92ef-795c7da0ca5a"
      },
      "source": [
        "for i in string:\n",
        "  count = max_len-len(i)\n",
        "  print(count)\n",
        "  for j in range(count):\n",
        "    i.append('eol')"
      ],
      "execution_count": 25,
      "outputs": [
        {
          "output_type": "stream",
          "name": "stdout",
          "text": [
            "14\n",
            "12\n",
            "7\n",
            "9\n",
            "16\n",
            "3\n",
            "1\n",
            "7\n",
            "5\n",
            "14\n",
            "12\n",
            "12\n",
            "12\n",
            "13\n",
            "14\n",
            "14\n",
            "14\n"
          ]
        }
      ]
    },
    {
      "cell_type": "code",
      "metadata": {
        "colab": {
          "base_uri": "https://localhost:8080/"
        },
        "id": "mIPpAAzTuhsn",
        "outputId": "aa336bfb-ddf2-4365-9445-b35b7df8099d"
      },
      "source": [
        "for i in string:\n",
        "  print(i)\n",
        "  print(\"Length => \",end=\" \")\n",
        "  print(len(i))\n",
        "  print()"
      ],
      "execution_count": 26,
      "outputs": [
        {
          "output_type": "stream",
          "name": "stdout",
          "text": [
            "['i', 'eat', 'rice', 'eol', 'eol', 'eol', 'eol', 'eol', 'eol', 'eol', 'eol', 'eol', 'eol', 'eol', 'eol', 'eol', 'eol']\n",
            "Length =>  17\n",
            "\n",
            "['the', 'cow', 'is', 'an', 'animal', 'eol', 'eol', 'eol', 'eol', 'eol', 'eol', 'eol', 'eol', 'eol', 'eol', 'eol', 'eol']\n",
            "Length =>  17\n",
            "\n",
            "['bangladesh', 'has', 'been', 'playing', 'cricket', 'since', '2', '0', '0', '0', 'eol', 'eol', 'eol', 'eol', 'eol', 'eol', 'eol']\n",
            "Length =>  17\n",
            "\n",
            "['shakib', 'al', 'hasan', 'is', 'a', 'bangladeshi', 'international', 'cricketer', 'eol', 'eol', 'eol', 'eol', 'eol', 'eol', 'eol', 'eol', 'eol']\n",
            "Length =>  17\n",
            "\n",
            "['mr', 'eol', 'eol', 'eol', 'eol', 'eol', 'eol', 'eol', 'eol', 'eol', 'eol', 'eol', 'eol', 'eol', 'eol', 'eol', 'eol']\n",
            "Length =>  17\n",
            "\n",
            "['x', 'has', 'joined', 'xyz', 'university', 'in', 'april', '2', '0', '1', '8', 'as', 'assistant', 'professor', 'eol', 'eol', 'eol']\n",
            "Length =>  17\n",
            "\n",
            "['before', 'joining', 'in', 'xyz', 'universityhe', 'had', 'worked', 'at', 'abc', 'inc', ',', 'usa', 'as', 'senior', 'research', 'scientist', 'eol']\n",
            "Length =>  17\n",
            "\n",
            "['now', ',', 'he', 'is', 'codirecting', 'the', 'zyx', 'lab', '@', 'xyz', 'eol', 'eol', 'eol', 'eol', 'eol', 'eol', 'eol']\n",
            "Length =>  17\n",
            "\n",
            "['he', 'is', 'also', 'affiliated', 'with', 'data', '&', 'design', 'lab', 'as', 'research', 'associate', 'eol', 'eol', 'eol', 'eol', 'eol']\n",
            "Length =>  17\n",
            "\n",
            "['i', 'drink', 'tea', 'eol', 'eol', 'eol', 'eol', 'eol', 'eol', 'eol', 'eol', 'eol', 'eol', 'eol', 'eol', 'eol', 'eol']\n",
            "Length =>  17\n",
            "\n",
            "['i', 'drink', 'coke', 'in', 'summer', 'eol', 'eol', 'eol', 'eol', 'eol', 'eol', 'eol', 'eol', 'eol', 'eol', 'eol', 'eol']\n",
            "Length =>  17\n",
            "\n",
            "['i', 'eat', 'rice', 'at', 'restaurent', 'eol', 'eol', 'eol', 'eol', 'eol', 'eol', 'eol', 'eol', 'eol', 'eol', 'eol', 'eol']\n",
            "Length =>  17\n",
            "\n",
            "['i', 'drink', 'milk', 'at', 'night', 'eol', 'eol', 'eol', 'eol', 'eol', 'eol', 'eol', 'eol', 'eol', 'eol', 'eol', 'eol']\n",
            "Length =>  17\n",
            "\n",
            "['i', 'sleep', 'a', 'lot', 'eol', 'eol', 'eol', 'eol', 'eol', 'eol', 'eol', 'eol', 'eol', 'eol', 'eol', 'eol', 'eol']\n",
            "Length =>  17\n",
            "\n",
            "['deep', 'dark', 'night', 'eol', 'eol', 'eol', 'eol', 'eol', 'eol', 'eol', 'eol', 'eol', 'eol', 'eol', 'eol', 'eol', 'eol']\n",
            "Length =>  17\n",
            "\n",
            "['i', 'love', 'pets', 'eol', 'eol', 'eol', 'eol', 'eol', 'eol', 'eol', 'eol', 'eol', 'eol', 'eol', 'eol', 'eol', 'eol']\n",
            "Length =>  17\n",
            "\n",
            "['i', 'should', 'run', 'eol', 'eol', 'eol', 'eol', 'eol', 'eol', 'eol', 'eol', 'eol', 'eol', 'eol', 'eol', 'eol', 'eol']\n",
            "Length =>  17\n",
            "\n"
          ]
        }
      ]
    },
    {
      "cell_type": "code",
      "metadata": {
        "id": "Qps9XmdWukIn"
      },
      "source": [
        "my_all_string = []\n",
        "\n",
        "for i in string:\n",
        "  for j in i:\n",
        "    my_all_string.append(j)"
      ],
      "execution_count": 27,
      "outputs": []
    },
    {
      "cell_type": "code",
      "metadata": {
        "id": "ioJc431RumfY"
      },
      "source": [
        "setString = set(my_all_string)"
      ],
      "execution_count": 28,
      "outputs": []
    },
    {
      "cell_type": "code",
      "metadata": {
        "id": "PCByBB7cuowY"
      },
      "source": [
        "dictionary = {}\n",
        "for i, item in enumerate(setString):\n",
        "  dictionary[item] = i"
      ],
      "execution_count": 29,
      "outputs": []
    },
    {
      "cell_type": "code",
      "metadata": {
        "colab": {
          "base_uri": "https://localhost:8080/"
        },
        "id": "1mxt6Q5Au2Nu",
        "outputId": "0883f0b7-202a-41ac-a58e-9f9f83cbf7be"
      },
      "source": [
        "len(dictionary)"
      ],
      "execution_count": 30,
      "outputs": [
        {
          "output_type": "execute_result",
          "data": {
            "text/plain": [
              "77"
            ]
          },
          "metadata": {},
          "execution_count": 30
        }
      ]
    },
    {
      "cell_type": "code",
      "metadata": {
        "id": "qHRHZr5Ou4iW"
      },
      "source": [
        "class LSTM(nn.Module):\n",
        "    def __init__(self,input_dim,hidden_dim):\n",
        "        super(LSTM,self).__init__()\n",
        "        self.input_dim = input_dim\n",
        "        self.hidden_dim = hidden_dim\n",
        "        #LSTM takes, input_dim, hidden_dim and num_layers\n",
        "        self.LSTM = nn.LSTM(input_dim,hidden_dim)\n",
        "        self.LNN = nn.Linear(hidden_dim,input_dim)\n",
        "        \n",
        "    #Input must be 3 dimensional (seq_len, batch, input_dim). \n",
        "    #hc is a tuple of hidden and cell state vector. Each of them have shape (1,1,hidden_dim)\n",
        "    def forward(self,inp,hc):\n",
        "        #this gives outut for each input in the sequence and also (hidden and cell state vector)\n",
        "        #Dimensions of output vector is (seq_len,batch,hidden_dim)\n",
        "        output,_= self.LSTM(inp,hc)\n",
        "        return self.LNN(output)"
      ],
      "execution_count": 31,
      "outputs": []
    },
    {
      "cell_type": "code",
      "metadata": {
        "id": "iGxE5-Bnxih3"
      },
      "source": [
        "hidden_dim = max_len     \n",
        "n_words = max_len\n",
        "model = LSTM(len(dictionary),len(dictionary))\n",
        "model = model.cuda()\n",
        "optimizer = torch.optim.Adam(params = model.parameters(),lr=0.001)\n",
        "LOSS = torch.nn.CrossEntropyLoss()"
      ],
      "execution_count": 40,
      "outputs": []
    },
    {
      "cell_type": "code",
      "metadata": {
        "colab": {
          "base_uri": "https://localhost:8080/"
        },
        "id": "hxEu_H_YxvQ9",
        "outputId": "d9f3b918-a366-476c-d3f7-8c4536db2117"
      },
      "source": [
        "n_iters = 10000\n",
        "\n",
        "train_costs = []\n",
        "\n",
        "for epoch in range(n_iters):\n",
        "  if (epoch+1)%1000==0:\n",
        "    print(epoch+1)\n",
        "\n",
        "  train_running_loss = 0\n",
        "\n",
        "  for str_idx in range(len(string)):\n",
        "    # make target\n",
        "    targets = []\n",
        "    for wrd_idx2 in string[str_idx]:\n",
        "      targets.append(dictionary[wrd_idx2]) \n",
        "\n",
        "    targets = torch.tensor(targets)\n",
        "    targets = targets.cuda()\n",
        "\n",
        "    #Zero the previosus gradients\n",
        "    model.zero_grad()\n",
        "    optimizer.zero_grad()\n",
        "\n",
        "    h = torch.rand(len(dictionary)).view(1,1,len(dictionary))\n",
        "    c = torch.rand(len(dictionary)).view(1,1,len(dictionary))   \n",
        "\n",
        "    h = h.cuda()\n",
        "    c = c.cuda()\n",
        "    \n",
        "    # Making one hot encoding\n",
        "    one_hot_labels = torch.zeros((len(string[0]), len(setString)))\n",
        "\n",
        "    for ohl_idx in range(len(string[0])):\n",
        "      if ohl_idx <= 0:\n",
        "        one_hot_labels[ohl_idx, dictionary[string[str_idx][0]]] = 1\n",
        "      else:\n",
        "        one_hot_labels[ohl_idx, dictionary['eol']] = 1\n",
        "\n",
        "    input = one_hot_labels.view(one_hot_labels.shape[0],1,one_hot_labels.shape[1])\n",
        "    input = input.cuda()\n",
        "\n",
        "    output = model(input,(h,c))\n",
        "    output = output.view(max_len,len(dictionary))\n",
        "\n",
        "    #Find loss\n",
        "    loss = LOSS(output,targets)\n",
        "\n",
        "    # Back Propagation\n",
        "    loss.backward()\n",
        "\n",
        "    # Optimize weight and bias\n",
        "    optimizer.step()\n",
        "\n",
        "    train_running_loss += loss.item()\n",
        "\n",
        "  train_costs.append(train_running_loss/(len(string)*max_len))  "
      ],
      "execution_count": 41,
      "outputs": [
        {
          "output_type": "stream",
          "name": "stdout",
          "text": [
            "1000\n",
            "2000\n",
            "3000\n",
            "4000\n",
            "5000\n",
            "6000\n",
            "7000\n",
            "8000\n",
            "9000\n",
            "10000\n"
          ]
        }
      ]
    },
    {
      "cell_type": "code",
      "metadata": {
        "colab": {
          "base_uri": "https://localhost:8080/",
          "height": 279
        },
        "id": "Ct-eFB0_0sSF",
        "outputId": "c2169144-4dd0-4a29-adf5-409130ab6d40"
      },
      "source": [
        "plt.plot(train_costs)\n",
        "plt.xlabel('Iteration number')\n",
        "plt.ylabel('Loss value')\n",
        "plt.show()"
      ],
      "execution_count": 42,
      "outputs": [
        {
          "output_type": "display_data",
          "data": {
            "text/plain": [
              "<Figure size 432x288 with 1 Axes>"
            ],
            "image/png": "[encoded data removed]"
          },
          "metadata": {
            "needs_background": "light"
          }
        }
      ]
    },
    {
      "cell_type": "code",
      "metadata": {
        "id": "WLT0oRs-00p9"
      },
      "source": [
        "def predict(my_input):\n",
        "  model.zero_grad()\n",
        "  optimizer.zero_grad()\n",
        "\n",
        "  my_input = my_input.lower()\n",
        "  my_input = my_input.split()\n",
        "  n_myInput = len(my_input)\n",
        "  count = max_len-len(my_input)\n",
        "\n",
        "  for eol_idx in range(count):\n",
        "    my_input.append('eol')\n",
        "\n",
        "  predict_str = []\n",
        "  for myInp_idx in my_input:\n",
        "    predict_str.append(dictionary[myInp_idx])  \n",
        "\n",
        "  one_hot_labels2 = torch.zeros((max_len, len(setString)))\n",
        "\n",
        "  for idx in range(len(predict_str)):\n",
        "    one_hot_labels2[idx, predict_str[idx]] = 1\n",
        "\n",
        "  one_hot_labels2 = one_hot_labels2.view(one_hot_labels2.shape[0],1,one_hot_labels2.shape[1])\n",
        "\n",
        "  one_hot_labels2 = one_hot_labels2.cuda()   \n",
        "\n",
        "  h2 = torch.rand(len(dictionary)).view(1,1,len(dictionary))\n",
        "  c2 = torch.rand(len(dictionary)).view(1,1,len(dictionary)) \n",
        "\n",
        "  h2 = h2.cuda()\n",
        "  c2 = c2.cuda()\n",
        "  output = model(one_hot_labels2,(h2,c2))\n",
        "\n",
        "  output = output.view(max_len,len(dictionary))\n",
        "\n",
        "  a = output.argmax(dim = 1)\n",
        "\n",
        "  for ta in range(max_len):\n",
        "    if ta>n_myInput-1:\n",
        "      for i, item in enumerate(dictionary):\n",
        "        if dictionary[item]==a[ta]:\n",
        "          if item!='eol':\n",
        "            print(item,end=' ')\n",
        "            break"
      ],
      "execution_count": 43,
      "outputs": []
    },
    {
      "cell_type": "code",
      "metadata": {
        "id": "n6fVW_Z42sYh",
        "colab": {
          "base_uri": "https://localhost:8080/"
        },
        "outputId": "13193e00-9309-43ad-cbad-6fada9e062de"
      },
      "source": [
        "predict(\"I\")"
      ],
      "execution_count": 44,
      "outputs": [
        {
          "output_type": "stream",
          "name": "stdout",
          "text": [
            "drink rice "
          ]
        }
      ]
    },
    {
      "cell_type": "code",
      "metadata": {
        "colab": {
          "base_uri": "https://localhost:8080/"
        },
        "id": "hHP9AbagW7TP",
        "outputId": "a5d07340-58ee-4e82-b49b-ce47f7ab0845"
      },
      "source": [
        "predict(\"I should\")"
      ],
      "execution_count": 45,
      "outputs": [
        {
          "output_type": "stream",
          "name": "stdout",
          "text": [
            "rice "
          ]
        }
      ]
    },
    {
      "cell_type": "code",
      "metadata": {
        "colab": {
          "base_uri": "https://localhost:8080/"
        },
        "id": "qVeOgoxRXle9",
        "outputId": "45f90ac0-88cd-4ecb-f541-f2da45bfe07a"
      },
      "source": [
        "predict(\"Shakib\")"
      ],
      "execution_count": 54,
      "outputs": [
        {
          "output_type": "stream",
          "name": "stdout",
          "text": [
            "al hasan is a bangladeshi international cricketer "
          ]
        }
      ]
    }
  ]
}